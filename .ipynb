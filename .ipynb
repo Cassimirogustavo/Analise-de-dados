{
 "cells": [
  {
   "cell_type": "code",
   "execution_count": 3,
   "metadata": {},
   "outputs": [],
   "source": [
    "import sqlite3\n",
    "from faker import Faker\n",
    "import random\n",
    "from datetime import datetime"
   ]
  },
  {
   "cell_type": "code",
   "execution_count": 4,
   "metadata": {},
   "outputs": [],
   "source": [
    "conn = sqlite3.connect('ecommerce.db')\n",
    "cursor = conn.cursor()"
   ]
  },
  {
   "cell_type": "code",
   "execution_count": 5,
   "metadata": {},
   "outputs": [
    {
     "data": {
      "text/plain": [
       "<sqlite3.Cursor at 0x713ff9f807c0>"
      ]
     },
     "execution_count": 5,
     "metadata": {},
     "output_type": "execute_result"
    }
   ],
   "source": [
    "cursor.execute('''\n",
    "    CREATE TABLE vendas (\n",
    "        id INTEGER PRIMARY KEY,\n",
    "        cliente TEXT,\n",
    "        valor_pago REAL,\n",
    "        produto TEXT,\n",
    "        data_pagamento TEXT,\n",
    "        status_entrega TEXT\n",
    "    )\n",
    "''')"
   ]
  },
  {
   "cell_type": "code",
   "execution_count": 6,
   "metadata": {},
   "outputs": [],
   "source": [
    "fake = Faker('pt_BR')\n",
    "Faker.seed(0)\n",
    "random.seed(0)"
   ]
  },
  {
   "cell_type": "code",
   "execution_count": 7,
   "metadata": {},
   "outputs": [],
   "source": [
    "produtos = ['Brinquedo', 'Ferramenta', 'Utensílio Doméstico']\n",
    "status = ['Entregue', 'Em Devolução', 'Cancelado', 'Extraviado', 'Devolvido']"
   ]
  },
  {
   "cell_type": "code",
   "execution_count": 8,
   "metadata": {},
   "outputs": [],
   "source": [
    "def random_date(start, end):\n",
    "    return fake.date_between(start_date=start, end_date=end)"
   ]
  },
  {
   "cell_type": "code",
   "execution_count": 9,
   "metadata": {},
   "outputs": [],
   "source": [
    "for _ in range(1000):\n",
    "    cliente = fake.name()\n",
    "    valor_pago = round(random.uniform(100, 5000), 2)\n",
    "    produto = random.choice(produtos)\n",
    "    data_pagamento = random_date(datetime(2019, 1, 1), datetime(2024, 12, 31)).isoformat()\n",
    "    status_entrega = random.choice(status)\n",
    "    \n",
    "    cursor.execute('''\n",
    "        INSERT INTO vendas (cliente, valor_pago, produto, data_pagamento, status_entrega)\n",
    "        VALUES (?, ?, ?, ?, ?)\n",
    "    ''', (cliente, valor_pago, produto, data_pagamento, status_entrega))"
   ]
  },
  {
   "cell_type": "code",
   "execution_count": 10,
   "metadata": {},
   "outputs": [],
   "source": [
    "conn.commit()\n",
    "conn.close()"
   ]
  }
 ],
 "metadata": {
  "kernelspec": {
   "display_name": "Python 3",
   "language": "python",
   "name": "python3"
  },
  "language_info": {
   "codemirror_mode": {
    "name": "ipython",
    "version": 3
   },
   "file_extension": ".py",
   "mimetype": "text/x-python",
   "name": "python",
   "nbconvert_exporter": "python",
   "pygments_lexer": "ipython3",
   "version": "3.10.13"
  }
 },
 "nbformat": 4,
 "nbformat_minor": 2
}
